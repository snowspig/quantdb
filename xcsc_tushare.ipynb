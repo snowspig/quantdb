{
 "cells": [
  {
   "cell_type": "code",
   "execution_count": 1,
   "metadata": {},
   "outputs": [
    {
     "name": "stdout",
     "output_type": "stream",
     "text": [
      "        ts_code con_ts_code   in_date  out_date  cur_sign\n",
      "0     000001.SH   600601.SH  19910715  20210514         0\n",
      "1     000001.SH   600654.SH  19910715  20200721         0\n",
      "2     000001.SH   600652.SH  19910715  20200721         0\n",
      "3     000001.SH   600651.SH  19910715  20200721         0\n",
      "4     000001.SH   600656.SH  19910715  20150527         0\n",
      "...         ...         ...       ...       ...       ...\n",
      "9995  000010.SH   600398.SH  20181217  20200612         0\n",
      "9996  000010.SH   600352.SH  20181217  20220610         0\n",
      "9997  000010.SH   600176.SH  20181217      None         1\n",
      "9998  000010.SH   600038.SH  20181217  20230609         0\n",
      "9999  000010.SH   600011.SH  20181217      None         1\n",
      "\n",
      "[10000 rows x 5 columns]\n"
     ]
    }
   ],
   "source": [
    "import xcsc_tushare as xc\n",
    "xc.set_token('b5bb9d57e35cf485f0366eb6581017fb69cefff888da312b0128f3a0')\n",
    "pro =xc.pro_api(server='http://116.128.206.39:7172')\n",
    "df = pro.index_members()\n",
    "print(df)"
   ]
  }
 ],
 "metadata": {
  "kernelspec": {
   "display_name": "base",
   "language": "python",
   "name": "python3"
  },
  "language_info": {
   "codemirror_mode": {
    "name": "ipython",
    "version": 3
   },
   "file_extension": ".py",
   "mimetype": "text/x-python",
   "name": "python",
   "nbconvert_exporter": "python",
   "pygments_lexer": "ipython3",
   "version": "3.12.3"
  }
 },
 "nbformat": 4,
 "nbformat_minor": 2
}
