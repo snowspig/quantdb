{
 "cells": [
  {
   "cell_type": "code",
   "execution_count": 75,
   "metadata": {},
   "outputs": [
    {
     "name": "stdout",
     "output_type": "stream",
     "text": [
      "        ts_code  ann_date  end_date  holder_num\n",
      "0     002630.SZ  20250116  20250116     78000.0\n",
      "1     002332.SZ  20250116  20250116     44000.0\n",
      "2     688583.SH  20250114  20250115     14855.0\n",
      "3     301601.SZ  20250114  20250115     35338.0\n",
      "4     300586.SZ  20250117  20250115     23445.0\n",
      "...         ...       ...       ...         ...\n",
      "1493  603998.SH  20250109  20241029     20155.0\n",
      "1494  002806.SZ  20250102  20241018     30323.0\n",
      "1495  002193.SZ  20250102  20241018     27855.0\n",
      "1496  600425.SH  20250102  20240920     63700.0\n",
      "1497  000999.SZ  20250107  20240805     52207.0\n",
      "\n",
      "[1498 rows x 4 columns]\n"
     ]
    }
   ],
   "source": [
    "import xcsc_tushare as xc\n",
    "xc.set_token('b5bb9d57e35cf485f0366eb6581017fb69cefff888da312b0128f3a0')\n",
    "pro =xc.pro_api(server='http://116.128.206.39:7172')\n",
    "df = pro.stk_holdernumber(start_date='20250101', end_date='20250119', limit=10000)\n",
    "print(df)"
   ]
  }
 ],
 "metadata": {
  "kernelspec": {
   "display_name": "base",
   "language": "python",
   "name": "python3"
  },
  "language_info": {
   "codemirror_mode": {
    "name": "ipython",
    "version": 3
   },
   "file_extension": ".py",
   "mimetype": "text/x-python",
   "name": "python",
   "nbconvert_exporter": "python",
   "pygments_lexer": "ipython3",
   "version": "3.12.3"
  }
 },
 "nbformat": 4,
 "nbformat_minor": 2
}
